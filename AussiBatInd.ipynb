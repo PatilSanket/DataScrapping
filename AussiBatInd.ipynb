{
 "cells": [
  {
   "cell_type": "code",
   "execution_count": 1,
   "metadata": {},
   "outputs": [
    {
     "name": "stdout",
     "output_type": "stream",
     "text": [
      "<!DOCTYPE html PUBLIC \"-//W3C//DTD XHTML 1.0 Transitional//EN\" \"http://www.w3.org/TR/xhtml1/DTD/xhtml1-transitional.dtd\">\n",
      "<!-- hostname: web001, country: unknown, cluster: www, created: 2019-02-22 14:20:02 -->\n",
      "<html xmlns=\"http://www.w3.org/1999/xhtml\">\n",
      "<head>\n",
      " <title>Batting records | One-Day Internationals | Cricinfo Statsguru | ESPNcricinfo.com</title> \n",
      " <meta http-equiv=\"Content-Type\" content=\"text/html;charset=utf-8\" />\n",
      " <meta name=\"keywords\" content=\"\" />\n",
      " <meta name=\"description\" content=\"\" />\n",
      " <meta name=\"robots\" content=\"index, follow\" />\n",
      " <meta name=\"googlebot\" content=\"index, follow\" />\n",
      " <link rel=\"icon\" type=\"image/vnd.microsoft.icon\" href=\"/favicon.ico\" />\n",
      " <link rel=\"icon\" type=\"image/png\" href=\"/favicon.png\" />\n",
      " <link rel=\"icon\" type=\"image/gif\" href=\"/favicon.gif\" />\n",
      "<script language=\"javascript\" type=\"text/javascript\" src=\"/navigation/cricinfo/ci/jquery-1.3.2.min.js\"></script>\n",
      "<script language=\"JavaScript\" type=\"text/javascript\" src=\"/navigation/cricinfo/ci/jquery.swap\n"
     ]
    }
   ],
   "source": [
    "from requests import get\n",
    "\n",
    "url = \"http://stats.espncricinfo.com/ci/engine/stats/index.html?class=2;opposition=6;spanmax1=22+Feb+2019;spanmin1=22+Feb+2014;spanval1=span;team=2;template=results;type=batting;wrappertype=print\"\n",
    "response = get(url)\n",
    "print(response.text[:1000])"
   ]
  },
  {
   "cell_type": "code",
   "execution_count": 2,
   "metadata": {},
   "outputs": [
    {
     "data": {
      "text/plain": [
       "bs4.BeautifulSoup"
      ]
     },
     "execution_count": 2,
     "metadata": {},
     "output_type": "execute_result"
    }
   ],
   "source": [
    "from bs4 import BeautifulSoup\n",
    "\n",
    "soup = BeautifulSoup(response.text, \"html.parser\")\n",
    "\n",
    "type(soup)"
   ]
  },
  {
   "cell_type": "code",
   "execution_count": 3,
   "metadata": {},
   "outputs": [
    {
     "data": {
      "text/plain": [
       "'\\nPlayer\\nSpan\\nMat\\nInns\\nNO\\nRuns\\nHS\\nAve\\nBF\\nSR\\n100\\n50\\n0\\n4s\\n6s\\n'"
      ]
     },
     "execution_count": 3,
     "metadata": {},
     "output_type": "execute_result"
    }
   ],
   "source": [
    "cols = soup.find(\"tr\",class_=\"head\")\n",
    "type(cols)\n",
    "cols.text"
   ]
  },
  {
   "cell_type": "code",
   "execution_count": 4,
   "metadata": {},
   "outputs": [
    {
     "data": {
      "text/plain": [
       "15"
      ]
     },
     "execution_count": 4,
     "metadata": {},
     "output_type": "execute_result"
    }
   ],
   "source": [
    "A = cols.findAll(\"th\")\n",
    "len(A)"
   ]
  },
  {
   "cell_type": "code",
   "execution_count": 5,
   "metadata": {},
   "outputs": [
    {
     "name": "stdout",
     "output_type": "stream",
     "text": [
      "['Player', 'Span', 'Mat', 'Inns', 'NO', 'Runs', 'HS', 'Ave', 'BF', 'SR', '100', '50', '0', '4s', '6s']\n"
     ]
    }
   ],
   "source": [
    "x = 0\n",
    "Col_Names = []\n",
    "while x<len(A):\n",
    "    Col_Names.append(A[x].text)\n",
    "    x+=1\n",
    "    \n",
    "print(Col_Names)"
   ]
  },
  {
   "cell_type": "code",
   "execution_count": 6,
   "metadata": {},
   "outputs": [
    {
     "data": {
      "text/plain": [
       "36"
      ]
     },
     "execution_count": 6,
     "metadata": {},
     "output_type": "execute_result"
    }
   ],
   "source": [
    "data = soup.findAll(\"tr\",class_=\"data1\")\n",
    "len(data)"
   ]
  },
  {
   "cell_type": "code",
   "execution_count": 7,
   "metadata": {},
   "outputs": [
    {
     "name": "stdout",
     "output_type": "stream",
     "text": [
      "Players :  ['AJ Finch', 'SPD Smith', 'DA Warner', 'SE Marsh', 'GJ Maxwell', 'MP Stoinis', 'GJ Bailey', 'PSP Handscomb', 'MR Marsh', 'TM Head', 'UT Khawaja', 'JP Faulkner', 'MS Wade', 'SR Watson', 'AT Carey', 'MG Johnson', 'BJ Haddin', 'JA Richardson', 'A Zampa', 'NM Lyon', 'PJ Cummins', 'MJ Clarke', 'NM Coulter-Nile', 'PM Siddle', 'AC Agar', 'HWR Cartwright', 'JW Hastings', 'JP Behrendorff', 'KW Richardson', 'B Stanlake', 'SM Boland', 'XJ Doherty', 'JR Hazlewood', 'JS Paris', 'GS Sandhu', 'MA Starc']\n",
      "Hundreds :  ['2', '2', '2', '1', '0', '0', '1', '0', '1', '0', '0', '0', '0', '0', '0', '0', '0', '0', '0', '0', '0', '0', '0', '0', '0', '0', '0', '0', '0', '0', '-', '-', '-', '-', '-', '-']\n"
     ]
    }
   ],
   "source": [
    "player = []\n",
    "Span = []\n",
    "Mat = []\n",
    "Inns = []\n",
    "NO = []\n",
    "Runs = []\n",
    "HS = []\n",
    "Ave = []\n",
    "BF = []\n",
    "SR = []\n",
    "Hundreds = []\n",
    "Fifties = []\n",
    "Ducks = []\n",
    "Fours = []\n",
    "Sixes = []\n",
    "\n",
    "x = 0\n",
    "\n",
    "while x<len(data):\n",
    "    \n",
    "        A = data[x].findAll(\"td\")\n",
    "        player.append(A[0].text)\n",
    "        Span.append(A[1].text)\n",
    "        Mat.append(A[2].text)\n",
    "        Inns.append(A[3].text)\n",
    "        NO.append(A[4].text)\n",
    "        Runs.append(A[5].text)\n",
    "        HS.append(A[6].text)\n",
    "        Ave.append(A[7].text)\n",
    "        BF.append(A[8].text)\n",
    "        SR.append(A[9].text)\n",
    "        Hundreds.append(A[10].text)\n",
    "        Fifties.append(A[11].text)\n",
    "        Ducks.append(A[12].text)\n",
    "        Fours.append(A[13].text)\n",
    "        Sixes.append(A[14].text)\n",
    "        x+=1\n",
    "        \n",
    "print(\"Players : \" ,player)\n",
    "print(\"Hundreds : \" ,Hundreds)\n"
   ]
  },
  {
   "cell_type": "code",
   "execution_count": 8,
   "metadata": {},
   "outputs": [
    {
     "name": "stdout",
     "output_type": "stream",
     "text": [
      "<class 'pandas.core.frame.DataFrame'>\n",
      "RangeIndex: 36 entries, 0 to 35\n",
      "Data columns (total 15 columns):\n",
      "Player    36 non-null object\n",
      "Span      36 non-null object\n",
      "Mat       36 non-null object\n",
      "Inns      36 non-null object\n",
      "NO        36 non-null object\n",
      "Runs      36 non-null object\n",
      "HS        36 non-null object\n",
      "Ave       36 non-null object\n",
      "BF        36 non-null object\n",
      "SR        36 non-null object\n",
      "100       36 non-null object\n",
      "50        36 non-null object\n",
      "0         36 non-null object\n",
      "4s        36 non-null object\n",
      "6s        36 non-null object\n",
      "dtypes: object(15)\n",
      "memory usage: 4.3+ KB\n"
     ]
    }
   ],
   "source": [
    "import pandas as pd\n",
    "import numpy as np\n",
    "\n",
    "Array = np.array([player,Span,Mat,Inns,NO,Runs,HS,Ave,BF,SR,Hundreds,Fifties,Ducks,Fours,Sixes])\n",
    "\n",
    "Array\n",
    "\n",
    "df_bat_Aus = pd.DataFrame(Array.T, columns = Col_Names)\n",
    "\n",
    "df_bat_Aus.info()"
   ]
  },
  {
   "cell_type": "code",
   "execution_count": 13,
   "metadata": {},
   "outputs": [],
   "source": [
    "df_bat_Ind.to_csv(r\"AussiBatsmen.csv\")"
   ]
  },
  {
   "cell_type": "code",
   "execution_count": null,
   "metadata": {},
   "outputs": [],
   "source": []
  }
 ],
 "metadata": {
  "kernelspec": {
   "display_name": "Python 3",
   "language": "python",
   "name": "python3"
  },
  "language_info": {
   "codemirror_mode": {
    "name": "ipython",
    "version": 3
   },
   "file_extension": ".py",
   "mimetype": "text/x-python",
   "name": "python",
   "nbconvert_exporter": "python",
   "pygments_lexer": "ipython3",
   "version": "3.7.0"
  }
 },
 "nbformat": 4,
 "nbformat_minor": 2
}
