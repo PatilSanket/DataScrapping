{
 "cells": [
  {
   "cell_type": "code",
   "execution_count": 1,
   "metadata": {},
   "outputs": [
    {
     "data": {
      "text/plain": [
       "'<!DOCTYPE html PUBLIC \"-//W3C//DTD XHTML 1.0 Transitional//EN\" \"http://www.w3.org/TR/xhtml1/DTD/xhtml1-transitional.dtd\">\\n<!-- hostname: web007, country: unknown, cluster: www, created: 2019-02-22 14:27:00 -->\\n<html xmlns=\"http://www.w3.org/1999/xhtml\">\\n<head>\\n <title>Bowling records | One-Day Internationals | Cricinfo Statsguru | ESPNcricinfo.com</title> \\n <meta http-equiv=\"Content-Type\" content=\"text/html;charset=utf-8\" />\\n <meta name=\"keywords\" content=\"\" />\\n <meta name=\"description\" content='"
      ]
     },
     "execution_count": 1,
     "metadata": {},
     "output_type": "execute_result"
    }
   ],
   "source": [
    "from requests import get\n",
    "\n",
    "url = \"http://stats.espncricinfo.com/ci/engine/stats/index.html?class=2;opposition=6;spanmax1=22+Feb+2019;spanmin1=22+Feb+2014;spanval1=span;team=2;template=results;type=bowling;wrappertype=print\"\n",
    "\n",
    "response = get(url)\n",
    "\n",
    "response.text[:500]"
   ]
  },
  {
   "cell_type": "code",
   "execution_count": 2,
   "metadata": {},
   "outputs": [
    {
     "data": {
      "text/plain": [
       "bs4.BeautifulSoup"
      ]
     },
     "execution_count": 2,
     "metadata": {},
     "output_type": "execute_result"
    }
   ],
   "source": [
    "from bs4 import BeautifulSoup\n",
    "\n",
    "soup = BeautifulSoup(response.text, \"html.parser\")\n",
    "\n",
    "type(soup)"
   ]
  },
  {
   "cell_type": "code",
   "execution_count": 3,
   "metadata": {},
   "outputs": [
    {
     "data": {
      "text/plain": [
       "'\\nPlayer\\nSpan\\nMat\\nInns\\nOvers\\nMdns\\nRuns\\nWkts\\nBBI\\nAve\\nEcon\\nSR\\n4\\n5\\n'"
      ]
     },
     "execution_count": 3,
     "metadata": {},
     "output_type": "execute_result"
    }
   ],
   "source": [
    "cols = soup.find(\"tr\",class_=\"head\")\n",
    "type(cols)\n",
    "cols.text"
   ]
  },
  {
   "cell_type": "code",
   "execution_count": 4,
   "metadata": {},
   "outputs": [
    {
     "data": {
      "text/plain": [
       "14"
      ]
     },
     "execution_count": 4,
     "metadata": {},
     "output_type": "execute_result"
    }
   ],
   "source": [
    "A = cols.findAll(\"th\")\n",
    "len(A)"
   ]
  },
  {
   "cell_type": "code",
   "execution_count": 5,
   "metadata": {},
   "outputs": [
    {
     "name": "stdout",
     "output_type": "stream",
     "text": [
      "['Player', 'Span', 'Mat', 'Inns', 'Overs', 'Mdns', 'Runs', 'Wkts', 'BBI', 'Ave', 'Econ', 'SR', '4', '5']\n"
     ]
    }
   ],
   "source": [
    "x = 0\n",
    "Col_Names = []\n",
    "while x<len(A):\n",
    "    Col_Names.append(A[x].text)\n",
    "    x+=1\n",
    "    \n",
    "print(Col_Names)"
   ]
  },
  {
   "cell_type": "code",
   "execution_count": 6,
   "metadata": {},
   "outputs": [
    {
     "data": {
      "text/plain": [
       "36"
      ]
     },
     "execution_count": 6,
     "metadata": {},
     "output_type": "execute_result"
    }
   ],
   "source": [
    "data = soup.findAll(\"tr\",class_=\"data1\")\n",
    "len(data)\n"
   ]
  },
  {
   "cell_type": "code",
   "execution_count": 7,
   "metadata": {},
   "outputs": [
    {
     "name": "stdout",
     "output_type": "stream",
     "text": [
      "Players :  ['KW Richardson', 'NM Coulter-Nile', 'JP Faulkner', 'JW Hastings', 'MA Starc', 'JA Richardson', 'MP Stoinis', 'PJ Cummins', 'MR Marsh', 'A Zampa', 'JP Behrendorff', 'AC Agar', 'JR Hazlewood', 'MG Johnson', 'PM Siddle', 'SM Boland', 'NM Lyon', 'GJ Maxwell', 'JS Paris', 'GS Sandhu', 'XJ Doherty', 'AJ Finch', 'TM Head', 'SPD Smith', 'B Stanlake', 'SR Watson', 'GJ Bailey', 'AT Carey', 'HWR Cartwright', 'MJ Clarke', 'BJ Haddin', 'PSP Handscomb', 'UT Khawaja', 'SE Marsh', 'MS Wade', 'DA Warner']\n",
      "Wickets :  ['13', '10', '10', '10', '9', '6', '6', '4', '4', '4', '3', '2', '2', '2', '2', '1', '1', '1', '1', '1', '0', '0', '0', '0', '0', '0', '-', '-', '-', '-', '-', '-', '-', '-', '-', '-']\n"
     ]
    }
   ],
   "source": [
    "player = []\n",
    "Span = []\n",
    "Mat = []\n",
    "Inns = []\n",
    "Overs = []\n",
    "Mdns = []\n",
    "Runs = []\n",
    "Wkts = []\n",
    "BBI = []\n",
    "Ave = []\n",
    "Econ = []\n",
    "SR = []\n",
    "Fours = []\n",
    "Sixes = []\n",
    "\n",
    "x = 0\n",
    "\n",
    "while x<len(data):\n",
    "    \n",
    "        A = data[x].findAll(\"td\")\n",
    "        player.append(A[0].text)\n",
    "        Span.append(A[1].text)\n",
    "        Mat.append(A[2].text)\n",
    "        Inns.append(A[3].text)\n",
    "        Overs.append(A[4].text)\n",
    "        Mdns.append(A[5].text)\n",
    "        Runs.append(A[6].text)\n",
    "        Wkts.append(A[7].text)\n",
    "        BBI.append(A[8].text)\n",
    "        Ave.append(A[9].text)\n",
    "        Econ.append(A[10].text)\n",
    "        SR.append(A[11].text)\n",
    "        Fours.append(A[12].text)\n",
    "        Sixes.append(A[13].text)\n",
    "        x+=1\n",
    "        \n",
    "print(\"Players : \" ,player)\n",
    "print(\"Wickets : \" ,Wkts)\n"
   ]
  },
  {
   "cell_type": "code",
   "execution_count": 8,
   "metadata": {},
   "outputs": [
    {
     "name": "stdout",
     "output_type": "stream",
     "text": [
      "<class 'pandas.core.frame.DataFrame'>\n",
      "RangeIndex: 36 entries, 0 to 35\n",
      "Data columns (total 14 columns):\n",
      "Player    36 non-null object\n",
      "Span      36 non-null object\n",
      "Mat       36 non-null object\n",
      "Inns      36 non-null object\n",
      "Overs     36 non-null object\n",
      "Mdns      36 non-null object\n",
      "Runs      36 non-null object\n",
      "Wkts      36 non-null object\n",
      "BBI       36 non-null object\n",
      "Ave       36 non-null object\n",
      "Econ      36 non-null object\n",
      "SR        36 non-null object\n",
      "4         36 non-null object\n",
      "5         36 non-null object\n",
      "dtypes: object(14)\n",
      "memory usage: 4.0+ KB\n"
     ]
    }
   ],
   "source": [
    "import pandas as pd\n",
    "import numpy as np\n",
    "\n",
    "Array = np.array([player,Span,Mat,Inns,Overs,Mdns,Runs,Wkts,BBI,Ave,Econ,SR,Fours,Sixes])\n",
    "\n",
    "Array\n",
    "\n",
    "df_bowl_Aus = pd.DataFrame(Array.T, columns = Col_Names)\n",
    "\n",
    "df_bowl_Aus.info()"
   ]
  },
  {
   "cell_type": "code",
   "execution_count": 11,
   "metadata": {},
   "outputs": [],
   "source": [
    "df_bowl_Aus.to_csv(r\"AussieBowlers.csv\")"
   ]
  },
  {
   "cell_type": "code",
   "execution_count": null,
   "metadata": {},
   "outputs": [],
   "source": []
  }
 ],
 "metadata": {
  "kernelspec": {
   "display_name": "Python 3",
   "language": "python",
   "name": "python3"
  },
  "language_info": {
   "codemirror_mode": {
    "name": "ipython",
    "version": 3
   },
   "file_extension": ".py",
   "mimetype": "text/x-python",
   "name": "python",
   "nbconvert_exporter": "python",
   "pygments_lexer": "ipython3",
   "version": "3.7.0"
  }
 },
 "nbformat": 4,
 "nbformat_minor": 2
}
